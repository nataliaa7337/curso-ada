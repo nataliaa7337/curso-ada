{
 "cells": [
  {
   "cell_type": "markdown",
   "metadata": {},
   "source": [
    "# Ejercicios de procesamiento de archivos"
   ]
  },
  {
   "cell_type": "markdown",
   "metadata": {},
   "source": [
    "**1. Movimientos en cuenta virtual (en clase)**\n",
    "\n",
    "Tenemos un archivo llamado cuentas.csv donde tenemos persistida la información de las cuentas actuales de nuestro micro-mini-banco virtual.  \n",
    "También tenemos un archivo llamado gastos.csv donde tenemos los gastos de las cuentas del día de hoy.  \n",
    "Se desea actualizar el saldo de cada una de las cuentas descontando los gastos, y volver a guardar la info actualizada en un archivo llamado cuentas_actualizadas.\n",
    "\n",
    "- cuentas.csv (crear el nuevo archivo con el siguiente contenido y nombrarlo cuentas.csv)\n",
    "\n",
    "        nro_de_cuenta, titular, saldo, activa\n",
    "        1000123,MERI IERVASI,12312.12,1\n",
    "        1000124,ANA VACIA,1.2,1\n",
    "        1000125,PEDRO LOPEZ,999,1\n",
    "        1000126,LEO MENDEZ,1000,1\n",
    "        1000127,AGUSTIN REY,100,1\n",
    "        1000128,AMELIA MENDEZ,78000,1\n",
    "\n",
    "- gastos.csv (crear el nuevo archivo con el siguiente contenido y nombrarlo gastos.csv)\n",
    "\n",
    "        nro_de_cuenta, monto\n",
    "        1000126,1000\n",
    "        1000127,50\n",
    "        1000123,2312.12\n",
    "        1000125,19\n",
    "        1000128,1.2\n",
    "        1000124,20\n",
    "\n"
   ]
  },
  {
   "cell_type": "code",
   "execution_count": null,
   "metadata": {},
   "outputs": [],
   "source": [
    "# your code is here"
   ]
  },
  {
   "cell_type": "markdown",
   "metadata": {},
   "source": [
    "**2. Conteos y Depositos (tarea)**\n",
    "\n",
    "Extender la funcionalidad del programa del ejercicio 1, agregando el procesamiento del archivo depositos.csv donde tenemos los depositos del día. A las cuentas que tenemos en este archivo, agregarles el monto indicado.\n",
    "\n",
    "Ademas:\n",
    "\n",
    "- Si la cuenta queda en negativo por los gastos, imprimir un mensaje de alerta\n",
    "- Si no existe la cuenta seguir procesando el archivo\n",
    "- Imprimir un mensaje con la cantidad de lineas procesadas en cada archivo (gastos.csv y depositos.csv)\n",
    "\n",
    "- depositos.csv (crear el nuevo archivo con el siguiente contenido y nombrarlo depositos.csv)\n",
    "\n",
    "\n",
    "        nro_de_cuenta, monto\n",
    "        1000126,1000\n",
    "        1000127,10000\n",
    "        1000125,8000\n",
    "        1000128,8000\n",
    "\n"
   ]
  },
  {
   "cell_type": "code",
   "execution_count": null,
   "metadata": {},
   "outputs": [],
   "source": [
    "# your code is here"
   ]
  },
  {
   "cell_type": "markdown",
   "metadata": {},
   "source": [
    "**3. Transferencias (tarea)**\n",
    "\n",
    "Extender la funcionalidad del programa de los ejercicios 1 y 2 y agregar el procesamiento de un archivo llamado transferencias.csv\n",
    "\n",
    "Tener en cuenta que:\n",
    "\n",
    "Si el saldo en la cuenta origen no es suficiente, entonces NO hacer la transferencia (no sumar el saldo a la cuenta destino)\n",
    "transferencias.csv (crear el nuevo archivo con el siguiente contenido y nombrarlo transferencias.csv)\n",
    "\n",
    "        nro_de_cuenta_origen, nro_de_cuenta_destino, monto\n",
    "        1000126,1000123,1001\n",
    "        1000127,1000124,500\n",
    "        1000125,1000127,800\n",
    "        1000128,1000129,800"
   ]
  },
  {
   "cell_type": "code",
   "execution_count": null,
   "metadata": {},
   "outputs": [],
   "source": [
    "# your code is here"
   ]
  }
 ],
 "metadata": {
  "kernelspec": {
   "display_name": "Python 3.9.2 64-bit",
   "language": "python",
   "name": "python3"
  },
  "language_info": {
   "name": "python",
   "version": "3.9.2"
  },
  "orig_nbformat": 4,
  "vscode": {
   "interpreter": {
    "hash": "916dbcbb3f70747c44a77c7bcd40155683ae19c65e1c03b4aa3499c5328201f1"
   }
  }
 },
 "nbformat": 4,
 "nbformat_minor": 2
}

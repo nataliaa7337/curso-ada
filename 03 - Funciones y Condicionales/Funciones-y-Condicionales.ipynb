{
 "cells": [
  {
   "cell_type": "markdown",
   "metadata": {},
   "source": [
    "**1. puede_ver_pelicula(edad, tieneAutorizacion)**\n",
    "\n",
    "Crear una funcion que tenga dos variables:\n",
    "- Una variable edad, numérica, en la que almacenamos la edad de una persona\n",
    "- Una variable tieneAutorizacion, booleana, donde guardamos True o False según si una persona tiene autorización para ver una película\n",
    "- Si la persona tiene 15 años (o más), o tiene autorización, mostrar en consola el mensaje \"La persona está autorizada\"\n",
    "- En el caso que no esté autorizada, mostrar en consola el mensaje \"La persona NO está autorizada\"\n"
   ]
  },
  {
   "cell_type": "code",
   "execution_count": null,
   "metadata": {},
   "outputs": [],
   "source": [
    "# your code is here"
   ]
  },
  {
   "cell_type": "markdown",
   "metadata": {},
   "source": [
    "**2. esta_en_rango(valor, minimo, maximo)**\n",
    "\n",
    "Crear una funcion que tenga tres variables numéricas:\n",
    "- valor\n",
    "- minimo\n",
    "- maximo\n",
    "\n",
    "Si el número que tenemos en valor se encuentra entre los números minimo y maximo, mostrar en consola el mensaje: \"{valor} está entre {maximo}y {minimo}\"\n"
   ]
  },
  {
   "cell_type": "code",
   "execution_count": null,
   "metadata": {},
   "outputs": [],
   "source": [
    "# your code is here"
   ]
  },
  {
   "cell_type": "markdown",
   "metadata": {},
   "source": [
    "**3. puede_avanzar(colorSemaforo)**\n",
    "\n",
    "Crear una funcion que tenga la variable colorSemaforo\n",
    "- Si el valor de la variable es \"verde\", que muestre por consola \"Puede avanzar\"\n",
    "- Si el color es \"rojo\" o \"amarillo\", que muestre por console el mensaje \"No avance\"\n",
    "- Si el color no es válido (cualquiera distinto de rojo, amarillo, verde), mostrar el mensaje Error: color de semáforo inválido\n"
   ]
  },
  {
   "cell_type": "code",
   "execution_count": null,
   "metadata": {},
   "outputs": [],
   "source": [
    "# your code is here"
   ]
  },
  {
   "cell_type": "markdown",
   "metadata": {},
   "source": [
    "**4. es_vocal(letra)**\n",
    "\n",
    "Crear una funcion con una variable letra.  \n",
    "Si el valor de letra es una vocal, mostrar el mensaje \"{letra} es una vocal\"  \n",
    "Tener en consideración que puede ser mayúscula o minúscula\n"
   ]
  },
  {
   "cell_type": "code",
   "execution_count": null,
   "metadata": {},
   "outputs": [],
   "source": [
    "# your code is here"
   ]
  },
  {
   "cell_type": "markdown",
   "metadata": {},
   "source": [
    "**5. es_consonante(letra)**\n",
    "\n",
    "Crear una funcion con una variable letra  \n",
    "Si el valor de letra es una consonante, mostrar el mensaje \"{letra} es una consonante\"\n"
   ]
  },
  {
   "cell_type": "code",
   "execution_count": null,
   "metadata": {},
   "outputs": [],
   "source": [
    "# your code is here"
   ]
  },
  {
   "cell_type": "markdown",
   "metadata": {},
   "source": [
    "**6. es_par_o_impar(numero)**\n",
    "\n",
    "Crear una función es_par_o_impar que acepte como argumento un numero y devuelva el string par si el numero es par, o el string impar si el numero es impar\n",
    "\n",
    "```python\n",
    "es_par_o_impar(3)  # 'impar'\n",
    "es_par_o_impar(10) # 'par'\n",
    "```\n"
   ]
  },
  {
   "cell_type": "code",
   "execution_count": null,
   "metadata": {},
   "outputs": [],
   "source": [
    "# your code is here"
   ]
  },
  {
   "cell_type": "markdown",
   "metadata": {},
   "source": [
    "**7. es_positivo_o_negativo(numero)**\n",
    "\n",
    "Crear una función es_positivo_o_negativo que acepte como argumento un numero y devuelva el string positivo si el numero es positivo, o el string negativo si el numero es negativo\n",
    "\n",
    "```python\n",
    "es_positivo_o_negativo(3)  # 'positivo'\n",
    "es_positivo_o_negativo(-5) # 'negativo'\n",
    "```\n"
   ]
  },
  {
   "cell_type": "code",
   "execution_count": null,
   "metadata": {},
   "outputs": [],
   "source": [
    "# your code is here"
   ]
  },
  {
   "cell_type": "markdown",
   "metadata": {},
   "source": [
    "**8. avanzar_semaforo(colorActual)**\n",
    "\n",
    "Crear una función avanzar_semaforo que acepte como argumento un string colorActual y devuelva un string con el siguiente color del semáforo, siguiendo el orden: verde -> amarillo -> rojo -> verde\n",
    "\n",
    "```python\n",
    "avanzar_semaforo('verde')     # 'amarillo'\n",
    "avanzar_semaforo('amarillo')  # 'rojo'\n",
    "avanzar_semaforo('rojo')      # 'verde'\n",
    "```\n"
   ]
  },
  {
   "cell_type": "code",
   "execution_count": null,
   "metadata": {},
   "outputs": [],
   "source": [
    "# your code is here"
   ]
  },
  {
   "cell_type": "markdown",
   "metadata": {},
   "source": [
    "**9. obtener_dias_mes(mes)**\n",
    "\n",
    "Crear una función obtener_dias_mes que tome como argumento un string mes y devuelva un número dependiendo de la cantidad de días que tenga ese mes\n",
    "\n",
    "```python\n",
    "obtener_dias_mes(\"diciembre\") # 31\n",
    "obtener_dias_mes(\"febrero\")   # 29\n",
    "```\n"
   ]
  },
  {
   "cell_type": "code",
   "execution_count": null,
   "metadata": {},
   "outputs": [],
   "source": [
    "# your code is here"
   ]
  },
  {
   "cell_type": "markdown",
   "metadata": {},
   "source": [
    "**10. obtener_sensacion(temperatura)**\n",
    "\n",
    "Crear una función obtener_sensacion que tome como argumento un número temperatura y devuelva un string dependiendo de la temperatura, con las siguientes reglas:\n",
    "- Temperatura\tMensaje\n",
    "- Menor a 0°\t¡Está helando!\n",
    "- Mayor o igual a 0° y menor a 15°\t¡Hace frío!\n",
    "- Mayor o igual a 15° y menor a 25°\tEstá lindo\n",
    "- Mayor o igual a entre 25° y menor a 30°\tHace calor\n",
    "- Mayor o igual de 30°\t¡Hace mucho calor!\n",
    "```python\n",
    "obtener_sensacion(33) # \"¡Hace mucho calor!\"\n",
    "```\n"
   ]
  },
  {
   "cell_type": "code",
   "execution_count": null,
   "metadata": {},
   "outputs": [],
   "source": [
    "# your code is here"
   ]
  },
  {
   "cell_type": "markdown",
   "metadata": {},
   "source": [
    "**11. obtener_nota(puntaje)**\n",
    "\n",
    "Crear una función obtener_nota que tome como argumento un número puntaje y devuelva un string dependiendo del puntaje redondeado, con las siguientes reglas:  \n",
    "\n",
    "\n",
    "Puntaje\tNota\n",
    "\n",
    "\n",
    "- Menor a 6\tDesaprobado\n",
    "- Mayor o igual a 6 y menor a 7\tRegular\n",
    "- Mayor o igual a 7 y menor a 8\tBueno\n",
    "- Mayor o igual a entre 8 y menor a 10\tMuy bueno\n",
    "- 10\tExcelente\n",
    "- Menor a 0 o mayor a 10\tPuntaje inválido\n",
    "\n",
    "\n",
    "```python\n",
    "obtener_nota(7)    # \"Bueno\"\n",
    "obtener_nota(9.6)  # \"Excelente\"\n",
    "obtener_nota(12)   # \"Puntaje inválido\"\n",
    "```"
   ]
  },
  {
   "cell_type": "code",
   "execution_count": null,
   "metadata": {},
   "outputs": [],
   "source": [
    "# your code is here"
   ]
  },
  {
   "cell_type": "markdown",
   "metadata": {},
   "source": [
    "**12. jugar_piedra_papel_tijera(a, b)**\n",
    "\n",
    "Crear una función jugar_piedra_papel_tijera que tome como argumentos dos strings a y b que representen una jugada (piedra, papel, tijera) y dependiendo el devuelva un string con un mensaje avisando qué jugada ganó (o si hubo empate)\n",
    "\n",
    "```python\n",
    "jugar_piedra_papel_tijera('tijera', 'piedra')  # ¡Ganó piedra!\n",
    "jugar_piedra_papel_tijera('piedra', 'tijera')  # ¡Ganó piedra!\n",
    "jugar_piedra_papel_tijera('papel', 'piedra')   # ¡Ganó papel!\n",
    "jugar_piedra_papel_tijera('piedra', 'papel')   # ¡Ganó papel!\n",
    "jugar_piedra_papel_tijera('papel', 'tijera')   # ¡Ganó tijera!\n",
    "jugar_piedra_papel_tijera('tijera', 'papel')   # ¡Ganó tijera!\n",
    "jugar_piedra_papel_tijera('piedra', 'piedra')  # ¡Empate!\n",
    "jugar_piedra_papel_tijera('papel', 'papel')    # ¡Empate!\n",
    "jugar_piedra_papel_tijera('tijera', 'tijera')  # ¡Empate!\n",
    "```"
   ]
  },
  {
   "cell_type": "code",
   "execution_count": 1,
   "metadata": {},
   "outputs": [],
   "source": [
    "# your code is here"
   ]
  }
 ],
 "metadata": {
  "kernelspec": {
   "display_name": "Python 3.9.2 64-bit",
   "language": "python",
   "name": "python3"
  },
  "language_info": {
   "name": "python",
   "version": "3.9.2"
  },
  "orig_nbformat": 4,
  "vscode": {
   "interpreter": {
    "hash": "31f2aee4e71d21fbe5cf8b01ff0e069b9275f58929596ceb00d14d90e3e16cd6"
   }
  }
 },
 "nbformat": 4,
 "nbformat_minor": 2
}

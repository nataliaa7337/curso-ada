{
 "cells": [
  {
   "cell_type": "markdown",
   "metadata": {},
   "source": [
    "# Clases\n",
    "## Ejercicios con Clases"
   ]
  },
  {
   "cell_type": "markdown",
   "metadata": {},
   "source": [
    "**1. Persona (hacer para la clase que viene)**\n",
    "\n",
    "Vamos a crear una clase llamada Persona. Sus atributos son: nombre, edad y DNI.  \n",
    "Construye los siguientes métodos para la clase: Un constructor, donde los datos pueden estar vacíos.\n",
    "\n",
    "- Los setters para cada uno de los atributos. Hay que validar las entradas de datos.\n",
    "- mostrar(): Muestra los datos de la persona.\n",
    "- es_mayor_de_edad(): Devuelve un valor booleano indicando si es mayor de edad.\n"
   ]
  },
  {
   "cell_type": "code",
   "execution_count": null,
   "metadata": {},
   "outputs": [],
   "source": [
    "# your code is here"
   ]
  },
  {
   "cell_type": "markdown",
   "metadata": {},
   "source": [
    "**2. Cuenta (en clase)**\n",
    "\n",
    "Crea una clase llamada Cuenta que tendrá los siguientes atributos: titular (que es una persona) y cantidad (puede tener decimales).  \n",
    "El titular será obligatorio y la cantidad es opcional. Construye los siguientes métodos para la clase: Un constructor, donde los datos pueden estar vacíos.\n",
    "\n",
    "- Los setters y getters para cada uno de los atributos (si son necesarios). El atributo no se puede modificar directamente, sólo ingresando o retirando dinero. (avanzado)\n",
    "- mostrar(): Muestra los datos de la cuenta.\n",
    "- aplicar_deposito(cantidad): se ingresa una cantidad a la cuenta, si la cantidad introducida es negativa, no se hará nada.\n",
    "- aplicar_gasto(cantidad): se retira una cantidad a la cuenta. La cuenta puede estar en números rojos.\n"
   ]
  },
  {
   "cell_type": "code",
   "execution_count": null,
   "metadata": {},
   "outputs": [],
   "source": [
    "# your code is here"
   ]
  },
  {
   "cell_type": "markdown",
   "metadata": {},
   "source": [
    "**3. Cuenta Joven (en clase o hacer para la clase que viene)**\n",
    "\n",
    "Vamos a definir ahora una “Cuenta Joven”, para ello vamos a crear una nueva clase CuantaJoven que deriva de la anterior.  \n",
    "Cuando se crea esta nueva clase, además del titular y a cantidad se debe guardar una bonificación que estará expresada en tanto por ciento.Construye los siguientes métodos para la clase: Un constructor.\n",
    "\n",
    "- Los setters , si son necesarios para el nuevo atributo.\n",
    "- En esta ocasión los titulares de este tipo de cuenta tienen que ser mayor de edad., por lo tanto hay que crear un método es_titular_valido() que devuelve verdadero si el titular es mayor de edad pero menor de 25 años y falso en caso contrario.\n",
    "- Además la retirada de dinero sólo se podrá hacer si el titular es válido.\n",
    "- El método mostrar() debe devolver el mensaje de “Cuenta Joven” y la bonificación de la cuenta. Piensa los métodos heredados de la clase madre que hay que reescribir."
   ]
  },
  {
   "cell_type": "code",
   "execution_count": 1,
   "metadata": {},
   "outputs": [],
   "source": [
    "# your code is here"
   ]
  }
 ],
 "metadata": {
  "kernelspec": {
   "display_name": "Python 3.9.2 64-bit",
   "language": "python",
   "name": "python3"
  },
  "language_info": {
   "codemirror_mode": {
    "name": "ipython",
    "version": 3
   },
   "file_extension": ".py",
   "mimetype": "text/x-python",
   "name": "python",
   "nbconvert_exporter": "python",
   "pygments_lexer": "ipython3",
   "version": "3.9.2"
  },
  "orig_nbformat": 4,
  "vscode": {
   "interpreter": {
    "hash": "916dbcbb3f70747c44a77c7bcd40155683ae19c65e1c03b4aa3499c5328201f1"
   }
  }
 },
 "nbformat": 4,
 "nbformat_minor": 2
}

{
 "cells": [
  {
   "cell_type": "markdown",
   "metadata": {},
   "source": [
    "# Ejercicios con librerias externas y archivos"
   ]
  },
  {
   "cell_type": "markdown",
   "metadata": {},
   "source": [
    "**1. Clima (Hacer para la clase 07)**\n",
    "\n",
    "Vamos a crear un programa en python donde vamos a mostrar la temperatura actual utilizando una librería externa. https://pypi.org/project/python-weather/ En clase vimos un modulo propio que devuelve la temperatura en grados F. Debemos crear un script/programa que pida al usuario una ciudad, y devuelva la temperatura en grados C.\n",
    "\n",
    "Ayuda: \n",
    "- 1- instalar python-weather con pip\n",
    "\n",
    "- 2- copiar el codigo del modulo clima.py a nuestro proyecto\n",
    "\n",
    "- 3- importar clima desde nuestro script\n",
    "\n"
   ]
  },
  {
   "cell_type": "code",
   "execution_count": null,
   "metadata": {},
   "outputs": [],
   "source": [
    "# your code is here"
   ]
  },
  {
   "cell_type": "markdown",
   "metadata": {},
   "source": [
    "**2. Contar palabras**\n",
    "\n",
    "Escribir un programa, llamado wc.py que reciba un archivo, lo procese e imprima por pantalla cuántas líneas, cuantas palabras y cuántos caracteres contiene el archivo.\n",
    "\n",
    "Ayuda: Recordar que a una lista le puedo pedir el largo con len()\n",
    "\n",
    "\n",
    "```python\n",
    ">>> cadena = 'esta es una cadena'\n",
    ">>> lista_de_palabras = cadena.split()\n",
    ">>> lista_de_palabras\n",
    "['esta', 'es', 'una', 'cadena']\n",
    ">>> len(cadena)\n",
    "18\n",
    ">>> len(lista_de_palabras)\n",
    "4\n",
    "```"
   ]
  },
  {
   "cell_type": "code",
   "execution_count": null,
   "metadata": {},
   "outputs": [],
   "source": [
    "# your code is here"
   ]
  },
  {
   "cell_type": "markdown",
   "metadata": {},
   "source": [
    "**3. Encuentra**\n",
    "\n",
    "Escribir un programa, llamado encuentra.py que reciba una expresión y un archivo e imprima las líneas del archivo que contienen la expresión recibida.\n",
    "\n",
    "Ayuda: Recordar que a una cadena puedo preguntarle si contiene otra cadena\n",
    "\n",
    "\n",
    "```python\n",
    ">>> cadena = 'esta es una cadena'\n",
    ">>> 'esta' in cadena\n",
    "True\n",
    "```"
   ]
  },
  {
   "cell_type": "code",
   "execution_count": null,
   "metadata": {},
   "outputs": [],
   "source": [
    "# your code is here"
   ]
  },
  {
   "cell_type": "markdown",
   "metadata": {},
   "source": [
    "**4. Principio**\n",
    "\n",
    "Escribir un programa, llamado head.py que reciba un archivo y un número N e imprima las primeras N líneas del archivo."
   ]
  },
  {
   "cell_type": "code",
   "execution_count": null,
   "metadata": {},
   "outputs": [],
   "source": [
    "# your code is here"
   ]
  }
 ],
 "metadata": {
  "kernelspec": {
   "display_name": "Python 3.9.2 64-bit",
   "language": "python",
   "name": "python3"
  },
  "language_info": {
   "name": "python",
   "version": "3.9.2"
  },
  "orig_nbformat": 4,
  "vscode": {
   "interpreter": {
    "hash": "916dbcbb3f70747c44a77c7bcd40155683ae19c65e1c03b4aa3499c5328201f1"
   }
  }
 },
 "nbformat": 4,
 "nbformat_minor": 2
}

{
 "cells": [
  {
   "cell_type": "markdown",
   "metadata": {},
   "source": [
    "# Ejercicios"
   ]
  },
  {
   "cell_type": "markdown",
   "metadata": {},
   "source": [
    "## 1. Ordenando el código en el repo en GitHub (Hacer para la clase 11)\n",
    "\n",
    "Crear una nueva carpeta en el repositorio creado en clase (ver video) que llamaremos lib. Dentro de la carpeta agregar el archivo proceso_cuentas.py. El archivo proceso_cuentas.py deberá tener los siguientes métodos implementados:\n",
    "\n",
    "guardar_cuentas\n",
    "\n",
    "recuperar_cuentas\n",
    "\n",
    "imprimir_cuentas\n",
    "\n",
    "procesar_gastos\n",
    "\n",
    "procesar_depositos\n",
    "\n",
    "procesar_transacciones\n",
    "\n",
    "Además deberemos crear y subir el archivo cuentas.py y personas.py al raíz del proyecto.\n"
   ]
  },
  {
   "cell_type": "markdown",
   "metadata": {},
   "source": [
    "## 2. Calcular edad (Hacer para la clase 11)\n",
    "\n",
    "Queremos ahora cambiar la clase Persona, para que cuando pidamos la edad, se calcule automáticamente. Utilizar la librería datetime."
   ]
  },
  {
   "cell_type": "markdown",
   "metadata": {},
   "source": [
    "## 3. Agregacion\n",
    "\n",
    "Queremos ahora cambiar el titular de nuestra clase Cuenta, y asociar las cuentas directamente a una Persona. El objeto persona es obligatorio para crear una cuenta. Cambiar el método str de Cuenta para que al mostrar la información muestre el DNI del titular."
   ]
  },
  {
   "cell_type": "markdown",
   "metadata": {},
   "source": [
    "## 4. Servidor Web\n",
    "\n",
    "En el mismo repositorio creado anteriormente, subir el archivo servidor.py creado en clase."
   ]
  }
 ],
 "metadata": {
  "language_info": {
   "name": "python"
  },
  "orig_nbformat": 4
 },
 "nbformat": 4,
 "nbformat_minor": 2
}

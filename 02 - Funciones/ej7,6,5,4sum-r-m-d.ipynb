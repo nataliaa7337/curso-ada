{
 "cells": [
  {
   "cell_type": "code",
   "execution_count": 1,
   "metadata": {},
   "outputs": [
    {
     "name": "stdout",
     "output_type": "stream",
     "text": [
      "la division entre a y b es 4.0\n"
     ]
    }
   ],
   "source": [
    "def division(a,b):\n",
    "    division = a / b\n",
    "    print(\"la division entre a y b es {}\" .format(division))\n",
    "division(12,3)"
   ]
  },
  {
   "cell_type": "code",
   "execution_count": 2,
   "metadata": {},
   "outputs": [
    {
     "name": "stdout",
     "output_type": "stream",
     "text": [
      "la multiplicacion entre a y b es 6\n"
     ]
    }
   ],
   "source": [
    "def multiplicacion(a,b):\n",
    "    multiplicacion = a * b\n",
    "    print(\"la multiplicacion entre a y b es {}\" .format(multiplicacion))\n",
    "multiplicacion(2,3)"
   ]
  },
  {
   "cell_type": "code",
   "execution_count": 5,
   "metadata": {},
   "outputs": [
    {
     "name": "stdout",
     "output_type": "stream",
     "text": [
      "la resta entre a y b es 1\n"
     ]
    }
   ],
   "source": [
    "def resta(a,b):\n",
    "    resta = a - b\n",
    "    print(\"la resta entre a y b es {}\" .format(resta))\n",
    "resta(3,2)"
   ]
  },
  {
   "cell_type": "code",
   "execution_count": 10,
   "metadata": {},
   "outputs": [
    {
     "name": "stdout",
     "output_type": "stream",
     "text": [
      "la suma entre a y b es 13\n"
     ]
    }
   ],
   "source": [
    "def suma(a,b):\n",
    "    suma = a + b\n",
    "    print(\"la suma entre a y b es {}\".format(suma))\n",
    "suma(5,8)"
   ]
  }
 ],
 "metadata": {
  "kernelspec": {
   "display_name": "Python 3.8.10 64-bit",
   "language": "python",
   "name": "python3"
  },
  "language_info": {
   "codemirror_mode": {
    "name": "ipython",
    "version": 3
   },
   "file_extension": ".py",
   "mimetype": "text/x-python",
   "name": "python",
   "nbconvert_exporter": "python",
   "pygments_lexer": "ipython3",
   "version": "3.8.10"
  },
  "orig_nbformat": 4,
  "vscode": {
   "interpreter": {
    "hash": "916dbcbb3f70747c44a77c7bcd40155683ae19c65e1c03b4aa3499c5328201f1"
   }
  }
 },
 "nbformat": 4,
 "nbformat_minor": 2
}

{
 "cells": [
  {
   "cell_type": "code",
   "execution_count": 4,
   "metadata": {},
   "outputs": [],
   "source": [
    "calcular_perimetro_rectangulo = (10, 20) # 60\n",
    "def calcular_perimetro_rectangulo(ancho, alto):\n",
    "    print(\"el perimetro es: {} \".format(perimetro))\n",
    "    calcular_perimetro_rectangulo(10, 20)"
   ]
  },
  {
   "cell_type": "code",
   "execution_count": 6,
   "metadata": {},
   "outputs": [
    {
     "name": "stdout",
     "output_type": "stream",
     "text": [
      "el perimetro es: 16.4 \n"
     ]
    }
   ],
   "source": [
    "def calcular_perimetro_rectangulo(ancho, alto):\n",
    "    perimetro = 2 * ancho + 2 * alto\n",
    "    print(\"el perimetro es: {} \".format(perimetro) )\n",
    "\n",
    "calcular_perimetro_rectangulo(3.2,5)"
   ]
  }
 ],
 "metadata": {
  "kernelspec": {
   "display_name": "Python 3.8.10 64-bit",
   "language": "python",
   "name": "python3"
  },
  "language_info": {
   "codemirror_mode": {
    "name": "ipython",
    "version": 3
   },
   "file_extension": ".py",
   "mimetype": "text/x-python",
   "name": "python",
   "nbconvert_exporter": "python",
   "pygments_lexer": "ipython3",
   "version": "3.8.10"
  },
  "orig_nbformat": 4,
  "vscode": {
   "interpreter": {
    "hash": "916dbcbb3f70747c44a77c7bcd40155683ae19c65e1c03b4aa3499c5328201f1"
   }
  }
 },
 "nbformat": 4,
 "nbformat_minor": 2
}

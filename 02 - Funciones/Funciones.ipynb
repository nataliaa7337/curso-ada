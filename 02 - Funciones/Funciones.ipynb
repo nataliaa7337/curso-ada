{
 "cells": [
  {
   "cell_type": "markdown",
   "metadata": {},
   "source": [
    "# Ejercicios"
   ]
  },
  {
   "cell_type": "markdown",
   "metadata": {},
   "source": [
    "**1. sumar(a, b)**\n",
    "\n",
    "Crear una función sumar que tome como argumentos dos números y devuelva la suma de ellos\n",
    "```python\n",
    "sumar(2, 3) # 5\n",
    "sumar(1.2, 3.4) # 4.6\n",
    "sumar(3, -5) # -2\n",
    "\n",
    "```"
   ]
  },
  {
   "cell_type": "code",
   "execution_count": null,
   "metadata": {},
   "outputs": [],
   "source": [
    "# your code is here"
   ]
  },
  {
   "cell_type": "markdown",
   "metadata": {},
   "source": [
    "**2. restar(a, b)**\n",
    "\n",
    "Crear una función restar que tome como argumentos dos números y devuelva la resta de ellos\n",
    "\n",
    "\n",
    "\n",
    "```python\n",
    "restar(3, 2) # 1\n",
    "restar(10, 5.5) # 4.5\n",
    "restar(3, 5) # -2\n",
    "\n",
    "```"
   ]
  },
  {
   "cell_type": "code",
   "execution_count": null,
   "metadata": {},
   "outputs": [],
   "source": [
    "# your code is here"
   ]
  },
  {
   "cell_type": "markdown",
   "metadata": {},
   "source": [
    "**3. multiplicar(a, b)**\n",
    "\n",
    "Crear una función multiplicar que tome como argumentos dos números y devuelva la multiplicación de ellos\n",
    "\n",
    "\n",
    "\n",
    "```python\n",
    "multiplicar(2, 3) # 6\n",
    "multiplicar(4, 0.5) # 2\n",
    "\n",
    "```"
   ]
  },
  {
   "cell_type": "code",
   "execution_count": null,
   "metadata": {},
   "outputs": [],
   "source": [
    "# your code is here"
   ]
  },
  {
   "cell_type": "markdown",
   "metadata": {},
   "source": [
    "**4. dividir(a, b)**\n",
    "\n",
    "Crear una función dividir que tome como argumentos dos números y devuelva la suma de ellos\n",
    "\n",
    "\n",
    "\n",
    "```python\n",
    "dividir(12, 3) #  4\n",
    "dividir(8, 4) # 2\n",
    "sumar(30, 6) # 5\n",
    "\n",
    "```"
   ]
  },
  {
   "cell_type": "code",
   "execution_count": null,
   "metadata": {},
   "outputs": [],
   "source": [
    "# your code is here"
   ]
  },
  {
   "cell_type": "markdown",
   "metadata": {},
   "source": [
    "**5. es_par(numero)**\n",
    "\n",
    "Crear una función es_par que tome como argumento un número y devuelva True si dicho números es par o False si no lo es\n",
    "\n",
    "TIP: un número es par si divido por 2 el resto (o módulo) de esa operación es 0\n",
    "\n",
    "\n",
    "```python\n",
    "esPar(2) # True\n",
    "esPar(3) # False\n",
    "\n",
    "```\n"
   ]
  },
  {
   "cell_type": "code",
   "execution_count": null,
   "metadata": {},
   "outputs": [],
   "source": [
    "# your code is here"
   ]
  },
  {
   "cell_type": "markdown",
   "metadata": {},
   "source": [
    "**6. es_impar(numero)**\n",
    "\n",
    "Crear una función es_impar que tome como argumento un número y devuelva True si dicho números es impar o False si no lo es\n",
    "\n",
    "TIP: un número es impar si divido por 2 el resto (o módulo) de esa operación no es 0\n",
    "\n",
    "\n",
    "```python\n",
    "esImpar(2) # False\n",
    "esImpar(3) # True\n",
    "\n",
    "```\n"
   ]
  },
  {
   "cell_type": "code",
   "execution_count": null,
   "metadata": {},
   "outputs": [],
   "source": [
    "# your code is here"
   ]
  },
  {
   "cell_type": "markdown",
   "metadata": {},
   "source": [
    "**7. calcular_area_triangulo(base, altura)**\n",
    "\n",
    "Crear una función calcular_area_triangulo que tome como argumentos la base y la altura de un triángulo y devuelva el área del mismo\n",
    "\n",
    "\n",
    "\n",
    "```python\n",
    "calcular_area_triangulo(3, 4) # 6\n",
    "calcular_area_triangulo(5, 6) # 40\n",
    "\n",
    "```"
   ]
  },
  {
   "cell_type": "code",
   "execution_count": null,
   "metadata": {},
   "outputs": [],
   "source": [
    "# your code is here"
   ]
  },
  {
   "cell_type": "markdown",
   "metadata": {},
   "source": [
    "**8. gritar(str)**\n",
    "\n",
    "Crear una función gritar que tome como argumento un string y devuelva el mismo string con un signo de exclamación al principio y al final del mismo\n",
    "\n",
    "\n",
    "\n",
    "```python\n",
    "gritar('hola') # ¡hola!\n",
    "gritar('aaaaaa') # ¡aaaaaa!\n",
    "\n",
    "```"
   ]
  },
  {
   "cell_type": "code",
   "execution_count": null,
   "metadata": {},
   "outputs": [],
   "source": [
    "# your code is here"
   ]
  },
  {
   "cell_type": "markdown",
   "metadata": {},
   "source": [
    "**9. obtener_nombre_completo(nombre, apellido)**\n",
    "\n",
    "Crear una función obtener_nombre_completo que tome como argumento un nombre y un apellido y devuelva un string con la unión de ambos valores\n",
    "\n",
    "\n",
    "```python\n",
    "obtener_nombre_completo('Ada', 'Lovelace') # 'Ada Lovelace'\n",
    "\n",
    "```"
   ]
  },
  {
   "cell_type": "code",
   "execution_count": null,
   "metadata": {},
   "outputs": [],
   "source": [
    "# your code is here"
   ]
  },
  {
   "cell_type": "markdown",
   "metadata": {},
   "source": [
    "**10. saludar(nombre)**\n",
    "\n",
    "Crear una función saludar que tome como argumentos un nombre y devuelva un saludo que lo incluya.\n",
    "\n",
    "\n",
    "\n",
    "```python\n",
    "saludar('Ada') # 'Hola Ada, un gusto conocerte'\n",
    "\n",
    "```"
   ]
  },
  {
   "cell_type": "code",
   "execution_count": null,
   "metadata": {},
   "outputs": [],
   "source": [
    "# your code is here"
   ]
  },
  {
   "cell_type": "markdown",
   "metadata": {},
   "source": [
    "**11. saludar_gritando(nombre, apellido)**\n",
    "\n",
    "Usando las funciones anteriores (obtener_nombre_completo, saludar y gritar), crear una función saludar_gritando que tome como argumentos un nombre y un apellido y devuelva un saludo con signos de exclamación.\n",
    "\n",
    "\n",
    "```python\n",
    "saludar_gritando('Ada', 'Lovelace') # ¡Hola Ada Lovelace, un gusto conocerte!\n",
    "```\n",
    "\n",
    "TIP: recordá que los resultados de funciones se pueden guardar en variables para usarlos más adelante\n",
    "\n",
    "\n",
    "\n",
    "```python\n",
    "nombreCompleto = obtener_nombre_completo('Ada', 'Lovelace')\n",
    "saludo = saludar(nombreCompleto)\n",
    "grito = gritar(saludo)\n",
    "print(grito) # ¡Hola Ada Lovelace, un gusto conocerte!\n",
    "```"
   ]
  },
  {
   "cell_type": "code",
   "execution_count": null,
   "metadata": {},
   "outputs": [],
   "source": [
    "# your code is here"
   ]
  },
  {
   "cell_type": "markdown",
   "metadata": {},
   "source": [
    "**12. obtener_datos_de_ciudad(nombre, poblacion, pais)**\n",
    "\n",
    "Crear una función obtener_datos_de_ciudad que tome como argumentos un string nombre, un número poblacion y un string pais y devuelva string con el siguiente formato: La ciudad de NOMBRE tiene una población de POBLACION habitantes y está ubicada en PAIS\n",
    "\n",
    "\n",
    "```python\n",
    "obtener_datos_de_ciudad('Santa Fe', 545606, 'Argentina') # 'La ciudad de Santa Fe tiene una población de 545606 habitantes y está ubicada en Argentina'\n",
    "```"
   ]
  },
  {
   "cell_type": "code",
   "execution_count": null,
   "metadata": {},
   "outputs": [],
   "source": [
    "# your code is here"
   ]
  },
  {
   "cell_type": "markdown",
   "metadata": {},
   "source": [
    "**13. convertir_horas_en_segundos(horas)**\n",
    "\n",
    "Crear una función convertir_horas_en_segundos que tome como argumento un número de horas y devuelva la conversión a segundos de dicha cantidad de horas\n",
    "\n",
    "\n",
    "```python\n",
    "convertir_horas_en_segundos(1) # 3600\n",
    "convertir_horas_en_segundos(3) # 10800\n",
    "convertir_horas_en_segundos(4.5) # 16200\n",
    "```"
   ]
  },
  {
   "cell_type": "code",
   "execution_count": null,
   "metadata": {},
   "outputs": [],
   "source": [
    "# your code is here"
   ]
  },
  {
   "cell_type": "markdown",
   "metadata": {},
   "source": [
    "**14. calcular_perimetro_rectangulo(ancho, alto)**\n",
    "\n",
    "Crear una función calcular_perimetro_rectangulo que tome como argumentos el ancho y el alto de un rectángulo y devuelva su perímetro\n",
    "\n",
    "\n",
    "```python\n",
    "calcular_perimetro_rectangulo(3.2, 5) # 16.4\n",
    "calcular_perimetro_rectangulo(10, 20) # 60\n",
    "```"
   ]
  },
  {
   "cell_type": "code",
   "execution_count": null,
   "metadata": {},
   "outputs": [],
   "source": [
    "# your code is here"
   ]
  },
  {
   "cell_type": "markdown",
   "metadata": {},
   "source": [
    "**15. calcular_porcentaje(numero, porcentaje)**\n",
    "\n",
    "Crear una función calcular_porcentaje que tome como argumentos un número y un porcentaje y devuelva el valor del porcentaje correspondiente al número\n",
    "\n",
    "\n",
    "```python\n",
    "calcular_porcentaje(100, 15) # 15\n",
    "calcular_porcentaje(10, 50) # 5\n",
    "calcular_porcentaje(200, 10) # 20\n",
    "```"
   ]
  },
  {
   "cell_type": "code",
   "execution_count": null,
   "metadata": {},
   "outputs": [],
   "source": [
    "# your code is here"
   ]
  },
  {
   "cell_type": "markdown",
   "metadata": {},
   "source": [
    "**16. sumar_porcentaje(numero, porcentaje)**\n",
    "\n",
    "Crear una función sumar_porcentaje que tome como argumentos un número y un porcentaje y devuelva la suma de dicho número con la de su porcentaje. Usar la función calcular_porcentaje para obtener el porcentaje a sumar\n",
    "\n",
    "\n",
    "```python\n",
    "sumar_porcentaje(100, 15) # 115\n",
    "sumar_porcentaje(10, 50) # 15\n",
    "sumar_porcentaje(200, 10) # 220\n",
    "```"
   ]
  },
  {
   "cell_type": "code",
   "execution_count": null,
   "metadata": {},
   "outputs": [],
   "source": [
    "# your code is here"
   ]
  },
  {
   "cell_type": "markdown",
   "metadata": {},
   "source": [
    "**17. restar_porcentaje(numero, porcentaje)**\n",
    "\n",
    "Crear una función restar_porcentaje que tome como argumentos un número y un porcentaje y devuelva la resta de dicho número con la de su porcentaje. Usar la función calcularPorcentaje para obtener el porcentaje a restar\n",
    "\n",
    "\n",
    "```python\n",
    "restar_porcentaje(100, 15) # 85\n",
    "restar_porcentaje(10, 40) # 6\n",
    "restar_porcentaje(200, 10) # 180\n",
    "```"
   ]
  },
  {
   "cell_type": "code",
   "execution_count": null,
   "metadata": {},
   "outputs": [],
   "source": [
    "# your code is here"
   ]
  },
  {
   "cell_type": "markdown",
   "metadata": {},
   "source": [
    "**18. calcularFPS(fps, minutos)**\n",
    "\n",
    "FPS son cuadros por segundo (frames per second). Crear una una función calcularFPS que tome como argumentos una cantidad de cuadros por segundo y una cantidad de minutos, y devuelva cuántos cuadros hubo en esa cantidad de minutos\n",
    "\n",
    "```python\n",
    "calcularFPS(1, 1) # 60\n",
    "calcularFPS(10, 2) # 1200\n",
    "calcularFPS(2, 3) # 360\n",
    "```"
   ]
  },
  {
   "cell_type": "code",
   "execution_count": null,
   "metadata": {},
   "outputs": [],
   "source": [
    "# your code is here"
   ]
  },
  {
   "cell_type": "markdown",
   "metadata": {},
   "source": [
    "**19. obtener_competencia(a, b)**\n",
    "\n",
    "Crear una función obtener_competencia que tome como argumentos dos strings a y b y devuelva un string con el formato a vs. b\n",
    "\n",
    "\n",
    "```python\n",
    "obtener_competencia('JavaScript', 'Python') # `JavaScript vs. Python`\n",
    "obtener_competencia('Coca', 'Pepsi') # `Coca vs. Pepsi`\n",
    "obtener_competencia('Perros', 'Gatos') # `Perros vs. Gatos`\n",
    "```\n"
   ]
  },
  {
   "cell_type": "code",
   "execution_count": null,
   "metadata": {},
   "outputs": [],
   "source": [
    "# your code is here"
   ]
  },
  {
   "cell_type": "markdown",
   "metadata": {},
   "source": [
    "**20. generar_email(usuario, dominio)**\n",
    "\n",
    "Crear una función generar_email que tome como argumentos dos string usuario y dominio y el un string email con el formato usuario@dominio.com\n",
    "\n",
    "```python\n",
    "generar_email('adalovelace', 'gmail') # 'adalovelace@gmail.com'\n",
    "```"
   ]
  },
  {
   "cell_type": "code",
   "execution_count": null,
   "metadata": {},
   "outputs": [],
   "source": [
    "# your code is here"
   ]
  },
  {
   "cell_type": "markdown",
   "metadata": {},
   "source": [
    "**21. es_mayor_de_edad(edad)**\n",
    "\n",
    "Crear una función es_mayor_de_edad que tome como argumento un número edad y devuelva True si es mayor de edad (18 o más) o False de lo contrario\n",
    "\n",
    "\n",
    "```python\n",
    "es_mayor_de_edad(15) # False\n",
    "es_mayor_de_edad(18) # True\n",
    "es_mayor_de_edad(27) # True\n",
    "```"
   ]
  },
  {
   "cell_type": "code",
   "execution_count": null,
   "metadata": {},
   "outputs": [],
   "source": [
    "# your code is here"
   ]
  },
  {
   "cell_type": "markdown",
   "metadata": {},
   "source": [
    "**22. hace_calor(temperatura)**\n",
    "\n",
    "Crear una función hace_calor que tome como argumento un número temperatura y devuelva True si hace calor (22 grados o más) o False de lo contrario\n",
    "\n",
    "```python\n",
    "hace_calor(12) # False\n",
    "hace_calor(22) # True\n",
    "hace_calor(32) # True\n",
    "```\n"
   ]
  },
  {
   "cell_type": "code",
   "execution_count": null,
   "metadata": {},
   "outputs": [],
   "source": [
    "# your code is here"
   ]
  },
  {
   "cell_type": "markdown",
   "metadata": {},
   "source": [
    "**23. hace_frio(temperatura)**\n",
    "\n",
    "Crear una función hace_frio que tome como argumento un número temperatura y devuelva True si hace frio (12 grados o menos) o False de lo contrario\n",
    "\n",
    "\n",
    "```python\n",
    "hace_frio(12) # True\n",
    "hace_frio(22) # False\n",
    "hace_frio(3) # True\n",
    "hace_frio(-2) # True\n",
    "```"
   ]
  },
  {
   "cell_type": "code",
   "execution_count": null,
   "metadata": {},
   "outputs": [],
   "source": [
    "# your code is here"
   ]
  },
  {
   "cell_type": "markdown",
   "metadata": {},
   "source": [
    "**24. calcular_puntaje(facil, normal, dificil)**\n",
    "\n",
    "Crear una función calcular_puntaje que calcule el puntaje de un examen que consiste en ejercicios de distinto nivel. Debe tomar como argumento tres que consisten en la cantidad de ejercicios resueltos en cada nivel y devolver un número con el puntaje correspondiente. El puntaje se calcula de la siguiente forma:\n",
    "\n",
    "- facil: 3 puntos\n",
    "- normal: 5 puntos\n",
    "- dificil: 10 puntos\n",
    "\n",
    "\n",
    "```python\n",
    "calcular_puntaje(3, 0, 0) # 9\n",
    "calcular_puntaje(0, 2, 1) # 20\n",
    "calcular_puntaje(5, 1, 2) # 40\n",
    "```"
   ]
  },
  {
   "cell_type": "code",
   "execution_count": null,
   "metadata": {},
   "outputs": [],
   "source": [
    "# your code is here"
   ]
  },
  {
   "cell_type": "markdown",
   "metadata": {},
   "source": [
    "**25. acepta_deposito(monto)**\n",
    "\n",
    "Crear una función acepta_deposito que tome como argumento un número monto y devuelva True si el monto es divisible por 10 o False si no lo es\n",
    "\n",
    "\n",
    "```python\n",
    "acepta_deposito(440) # True\n",
    "acepta_deposito(123) # False\n",
    "acepta_deposito(500.50) # False\n",
    "acepta_deposito(1000) # True\n",
    "```"
   ]
  },
  {
   "cell_type": "code",
   "execution_count": null,
   "metadata": {},
   "outputs": [],
   "source": [
    "# your code is here"
   ]
  },
  {
   "cell_type": "markdown",
   "metadata": {},
   "source": [
    "**26. es_hora_valida(hora)**\n",
    "\n",
    "Crear una función es_hora_valida que tome como argumento un string hora con el formato HH:mm y determine si es una hora válida del día o no\n",
    "\n",
    "\n",
    "```python\n",
    "esHoraValida('12:23') # True\n",
    "esHoraValida('12:65') # False\n",
    "esHoraValida('28:05') # False\n",
    "esHoraValida('00:00') # True\n",
    "```"
   ]
  },
  {
   "cell_type": "code",
   "execution_count": null,
   "metadata": {},
   "outputs": [],
   "source": [
    "# your code is here"
   ]
  },
  {
   "cell_type": "markdown",
   "metadata": {},
   "source": [
    "**27. puede_renovar_carnet(pasoTests, tieneMultasImpagas, pagoImpuestos)**\n",
    "\n",
    "Crear una función puede_renovar_carnet que tome como argumentos tres booleanos, pasoTests, tieneMultasImpagas y pagoImpuestos, y devuelva True si una persona está habilitada para renovar su carnet de conducir o False si no. Una persona puede renovar su carnet si pasó los tests, no tiene multas impagas y pagó todos los impuestos\n",
    "\n",
    "\n",
    "```python\n",
    "puede_renovar_carnet(True, True, True)    # False\n",
    "puede_renovar_carnet(True, True, False)   # False\n",
    "puede_renovar_carnet(True, False, True)   # True\n",
    "puede_renovar_carnet(True, False, False)  # False\n",
    "puede_renovar_carnet(False, True, True)   # False\n",
    "puede_renovar_carnet(False, True, False)  # False\n",
    "puede_renovar_carnet(False, False, True)  # False\n",
    "puede_renovar_carnet(False, False, False) # False\n",
    "```\n"
   ]
  },
  {
   "cell_type": "code",
   "execution_count": null,
   "metadata": {},
   "outputs": [],
   "source": [
    "# your code is here"
   ]
  },
  {
   "cell_type": "markdown",
   "metadata": {},
   "source": [
    "**28. puede_graduarse(asistencia, materiasAprobadas, tesisAprobada)**\n",
    "\n",
    "Crear una función puede_graduarse que tome como argumentos dos números asistencia y materiasAprobadas y un booleano tesisAprobada, y devuelva True si una persona puede gruadarse o False si no. Una persona puede graduarse si tiene un 75% de asistencia o más, 50 materias aprobadas o más y la tesis aprobada.\n",
    "\n",
    "\n",
    "\n",
    "```python\n",
    "puede_graduarse(80, 50, True)  # True\n",
    "puede_graduarse(80, 50, False) # False\n",
    "puede_graduarse(80, 45, True)  # False\n",
    "puede_graduarse(80, 45, False) # False\n",
    "puede_graduarse(65, 50, True)  # False\n",
    "puede_graduarse(33, 55, False) # False\n",
    "puede_graduarse(42, 45, True)  # False\n",
    "puede_graduarse(28, 45, False) # False\n",
    "```"
   ]
  },
  {
   "cell_type": "code",
   "execution_count": null,
   "metadata": {},
   "outputs": [],
   "source": [
    "# your code is here"
   ]
  }
 ],
 "metadata": {
  "kernelspec": {
   "display_name": "Python 3.9.2 64-bit",
   "language": "python",
   "name": "python3"
  },
  "language_info": {
   "name": "python",
   "version": "3.9.2"
  },
  "orig_nbformat": 4,
  "vscode": {
   "interpreter": {
    "hash": "916dbcbb3f70747c44a77c7bcd40155683ae19c65e1c03b4aa3499c5328201f1"
   }
  }
 },
 "nbformat": 4,
 "nbformat_minor": 2
}

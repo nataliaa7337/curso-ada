{
 "cells": [
  {
   "cell_type": "code",
   "execution_count": 1,
   "metadata": {},
   "outputs": [
    {
     "name": "stdout",
     "output_type": "stream",
     "text": [
      "true\n",
      "false\n",
      "true\n",
      "true\n"
     ]
    }
   ],
   "source": [
    "def hace_frio(temperatura):\n",
    "    if temperatura <= 12 :\n",
    "        print(\"true\")\n",
    "    else:\n",
    "        print(\"false\")    \n",
    "\n",
    "hace_frio(12)\n",
    "hace_frio(22)\n",
    "hace_frio(3)\n",
    "hace_frio(-2)"
   ]
  },
  {
   "cell_type": "code",
   "execution_count": 1,
   "metadata": {},
   "outputs": [
    {
     "name": "stdout",
     "output_type": "stream",
     "text": [
      "false\n",
      "true\n",
      "true\n"
     ]
    }
   ],
   "source": [
    "def hace_calor(temperatura):\n",
    "    if temperatura >= 22 :\n",
    "        print(\"true\")\n",
    "    else:\n",
    "        print(\"false\")    \n",
    "\n",
    "\n",
    "hace_calor(12)\n",
    "hace_calor(22)\n",
    "hace_calor(32)"
   ]
  }
 ],
 "metadata": {
  "kernelspec": {
   "display_name": "Python 3.8.10 64-bit",
   "language": "python",
   "name": "python3"
  },
  "language_info": {
   "codemirror_mode": {
    "name": "ipython",
    "version": 3
   },
   "file_extension": ".py",
   "mimetype": "text/x-python",
   "name": "python",
   "nbconvert_exporter": "python",
   "pygments_lexer": "ipython3",
   "version": "3.8.10"
  },
  "orig_nbformat": 4,
  "vscode": {
   "interpreter": {
    "hash": "916dbcbb3f70747c44a77c7bcd40155683ae19c65e1c03b4aa3499c5328201f1"
   }
  }
 },
 "nbformat": 4,
 "nbformat_minor": 2
}

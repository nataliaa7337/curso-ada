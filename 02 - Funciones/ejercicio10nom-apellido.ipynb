{
 "cells": [
  {
   "cell_type": "code",
   "execution_count": 1,
   "metadata": {},
   "outputs": [
    {
     "name": "stdout",
     "output_type": "stream",
     "text": [
      "el nombre completo es: cecilia, schifini \n"
     ]
    }
   ],
   "source": [
    "def obtener_nombre_completo(nombre, apellido):\n",
    "    print(\"el nombre completo es: {}, {} \".format(nombre, apellido))\n",
    "\n",
    "obtener_nombre_completo(\"cecilia\",\"schifini\")"
   ]
  },
  {
   "cell_type": "code",
   "execution_count": 2,
   "metadata": {},
   "outputs": [
    {
     "name": "stdout",
     "output_type": "stream",
     "text": [
      "hola cecilia un gusto conocerte \n"
     ]
    }
   ],
   "source": [
    "def saludar(nombre):\n",
    "    print(\"hola {} un gusto conocerte \".format(nombre))\n",
    "\n",
    "saludar(\"cecilia\")"
   ]
  }
 ],
 "metadata": {
  "kernelspec": {
   "display_name": "Python 3.8.10 64-bit",
   "language": "python",
   "name": "python3"
  },
  "language_info": {
   "codemirror_mode": {
    "name": "ipython",
    "version": 3
   },
   "file_extension": ".py",
   "mimetype": "text/x-python",
   "name": "python",
   "nbconvert_exporter": "python",
   "pygments_lexer": "ipython3",
   "version": "3.8.10"
  },
  "orig_nbformat": 4,
  "vscode": {
   "interpreter": {
    "hash": "916dbcbb3f70747c44a77c7bcd40155683ae19c65e1c03b4aa3499c5328201f1"
   }
  }
 },
 "nbformat": 4,
 "nbformat_minor": 2
}

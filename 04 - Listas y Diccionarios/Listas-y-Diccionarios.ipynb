{
 "cells": [
  {
   "cell_type": "markdown",
   "metadata": {},
   "source": [
    "**1. obtener_menor(numeros)**\n",
    "\n",
    "Crear una función obtener_menor que tome como argumento un array de números numeros y devuelva el menor de ellos. Ejemplo:\n",
    "\n",
    "\n",
    "```python\n",
    "obtener_menor([5, 7, 99, 34, 54, 2, 12]) # 2\n",
    "```\n"
   ]
  },
  {
   "cell_type": "code",
   "execution_count": null,
   "metadata": {},
   "outputs": [],
   "source": [
    "# your code is here"
   ]
  },
  {
   "cell_type": "markdown",
   "metadata": {},
   "source": [
    "**2. sumar(numeros)**\n",
    "\n",
    "Crear una función sumar que tome como argumento un array de números numeros y devuelva la suma de ellos. Ejemplo:\n",
    "\n",
    "\n",
    "```python\n",
    "sumar_mumeros([5, 7, 10, 12, 24]) # 58\n",
    "```\n"
   ]
  },
  {
   "cell_type": "code",
   "execution_count": null,
   "metadata": {},
   "outputs": [],
   "source": [
    "# your code is here"
   ]
  },
  {
   "cell_type": "markdown",
   "metadata": {},
   "source": [
    "**3. contiene(numero, numeros)**\n",
    "\n",
    "Crear una función contiene que tome como argumentos un número numero y una lista de números numeros y devuelva True o False dependiendo de si dicho numero se encuentra en la lista numeros. Ejemplo:\n",
    "\n",
    "```python\n",
    "contiene(54, [5, 7, 99, 3, 4, 54, 2, 12]) # True\n",
    "contiene(103, [5, 7, 99, 3, 4, 54, 2, 12]) # False\n",
    "```"
   ]
  },
  {
   "cell_type": "code",
   "execution_count": null,
   "metadata": {},
   "outputs": [],
   "source": [
    "# your code is here"
   ]
  },
  {
   "cell_type": "markdown",
   "metadata": {},
   "source": [
    "**4. obtener_chat_status(usuarias)**\n",
    "\n",
    "Crear una función obtener_chat_status que tome como argumento una lista de strings usuarias y devuelva un string con el status del chat. Las reglas son:\n",
    "\n",
    "- Para una usuaria, debe mostrar: NOMBRE_USUARIA_1 está conectada\n",
    "- Para dos usuarias, debe mostrar: NOMBRE_USUARIA_1 y NOMBRE_USUARIA_2 + están conectadas\n",
    "- Para más de dos usuarias, debe mostrar: NOMBRE_USUARIA_1, NOMBRE_USUARIA_2 y X persona(s) más están conectadas\n",
    "\n",
    "Ejemplo:\n",
    "\n",
    "\n",
    "```python\n",
    "obtener_chat_status(['Ada']) # 'Ada está conectada'\n",
    "obtener_chat_status(['Ada', 'Grace']) # 'Ada y Grace están conectadas'\n",
    "obtener_chat_status(['Ada', 'Grace', 'Marie']) # 'Ada, Grace y 1 persona(s) más están conectadas'\n",
    "```\n"
   ]
  },
  {
   "cell_type": "code",
   "execution_count": null,
   "metadata": {},
   "outputs": [],
   "source": [
    "# your code is here"
   ]
  },
  {
   "cell_type": "markdown",
   "metadata": {},
   "source": [
    "**5.obtener_resultado(jugadoraA, jugadoraB, puntajesA, puntajesB)**\n",
    "\n",
    "Crear una función obtener_resultado que tome como argumentos dos strings jugadoraA y jugadoraB con los nombres de cada jugadora respectivamente, y dos listas de numeros puntajesA y puntajesB de la misma longitud. La función debe devolver un string con el nombre de la ganadora o Empate en caso de que no haya ninguna. Para eso, debe comparar las mismas posiciones de cada lista de puntajes, y sumar puntos a la jugadora correspondiente dependiendo de quien tenga el puntaje más alto. Por ejemplo:\n",
    "\n",
    "```python\n",
    "puntajesA = [3, 5, 2]\n",
    "puntajesB = [4, 6, 2]\n",
    "\n",
    "# puntajesA[0] vs. puntajesB[0] -> Gana B\n",
    "# puntajesA[1] vs. puntajesB[1] -> Gana B\n",
    "# puntajesA[2] vs. puntajesB[2] -> Empate\n",
    "\n",
    "# Resultado final: Gana Jugadora B\n",
    "\n",
    "obtener_resultado('Ada', 'Grace', [4, 4, 4], [1, 2, 3]) # Ada\n",
    "obtener_resultado('Ada', 'Grace', [3, 5, 5, 7], [4, 1, 2, 9]) # Empate\n",
    "obtener_resultado('Ada', 'Grace', [5, 6, 3, 1, 8], [8, 2, 4, 2, 3]) # Grace\n",
    "```"
   ]
  },
  {
   "cell_type": "code",
   "execution_count": null,
   "metadata": {},
   "outputs": [],
   "source": [
    "# your code is here"
   ]
  },
  {
   "cell_type": "markdown",
   "metadata": {},
   "source": [
    "**6. obtener_indice(valor, lista)**\n",
    "\n",
    "Crear una función obtenerIndice que tome como argumento un valor cualquiera valor y una lista cualquiera lista y devuelva el índice del primer ítem con dicho valor en la lista, o -1 si no hay ninguno.\n",
    "\n",
    "\n",
    "```python\n",
    "obtenerIndice(12, [5, 7, 12, 34, 54, 2, 12]) # 2\n",
    "obtenerIndice(83, [5, 7, 12, 34, 54, 2, 12]) # -1\n",
    "```"
   ]
  },
  {
   "cell_type": "code",
   "execution_count": null,
   "metadata": {},
   "outputs": [],
   "source": [
    "# your code is here"
   ]
  },
  {
   "cell_type": "markdown",
   "metadata": {},
   "source": [
    "**7. repetir(valor, cantidad)**\n",
    "\n",
    "Crear una función repetir que tome como argumento un valor valor y un número entero cantidad, y devuelva una lista con valor repetido cantidad de veces.\n",
    "\n",
    "```python\n",
    "repetir('lovelace', 3) # ['lovelace', 'lovelace', 'lovelace']\n",
    "repetir('a', 5) # ['a', 'a', 'a', 'a', 'a']\n",
    "repetir('html', 0) # []\n",
    "```\n"
   ]
  },
  {
   "cell_type": "code",
   "execution_count": null,
   "metadata": {},
   "outputs": [],
   "source": [
    "# your code is here"
   ]
  },
  {
   "cell_type": "markdown",
   "metadata": {},
   "source": [
    "**8. sumar_impares_hasta(numero)**\n",
    "\n",
    "Crear una función sumar_impares_hasta que tome como argumento un número numero y que devuelva la suma de todos los impares empezando desde 0 hasta dicho numero inclusive.\n",
    "\n",
    "```python\n",
    "sumar_impares_hasta(5) # 9 (1 + 3 + 5 = 9)\n",
    "sumar_impares_hasta(13) # 49\n",
    "sumar_impares_hasta(47) # 576\n",
    "```"
   ]
  },
  {
   "cell_type": "code",
   "execution_count": null,
   "metadata": {},
   "outputs": [],
   "source": [
    "# your code is here"
   ]
  },
  {
   "cell_type": "markdown",
   "metadata": {},
   "source": [
    "**9. crear_cuenta_regresiva(numero_inicial)**\n",
    "\n",
    "Crear una función crear_cuenta_regresiva que tome como argumento un número entero numero_inicial y que devuelva una lista con cuyo primer ítem sea numero_inicial y los demás ítems sean números enteros sucesivos descendientes, hasta llegar a 0.\n",
    "\n",
    "```python\n",
    "crearCuentaRegresiva(3) # [3, 2, 1, 0]\n",
    "crearCuentaRegresiva(5) # [5, 4, 3, 2, 1, 0]\n",
    "```"
   ]
  },
  {
   "cell_type": "code",
   "execution_count": null,
   "metadata": {},
   "outputs": [],
   "source": [
    "# your code is here"
   ]
  },
  {
   "cell_type": "markdown",
   "metadata": {},
   "source": [
    "**10. invertir(lista)**\n",
    "\n",
    "Crear una función invertir que tome como argumento una lista lista y que devuelva una lista con los mismos valores pero en orden invertido.\n",
    "\n",
    "```python\n",
    "invertir([1, 2, 3]) # [3, 2, 1]\n",
    "invertir([5, 7, 99, 34, 54, 2, 12]) # [12, 2, 54, 34, 99, 7, 5]\n",
    "```"
   ]
  },
  {
   "cell_type": "code",
   "execution_count": null,
   "metadata": {},
   "outputs": [],
   "source": [
    "# your code is here"
   ]
  },
  {
   "cell_type": "markdown",
   "metadata": {},
   "source": [
    "**11. remover_duplicados(lista)**\n",
    "\n",
    "Crear una función remover_duplicados que tome como argumento una lista lista y que devuelva una lista con los mismos valores de lista pero sin valores duplicados.\n",
    "\n",
    "```python\n",
    "remover_duplicados([1, 1, 1]) # [1]\n",
    "remover_duplicados([1, 1, 2, 2, 3, 3]) # [1, 2 ,3]\n",
    "remover_duplicados([5, 23, 8, 5, 5, 44, 23]) # [5, 23 ,8, 44]\n",
    "```"
   ]
  },
  {
   "cell_type": "code",
   "execution_count": null,
   "metadata": {},
   "outputs": [],
   "source": [
    "# your code is here"
   ]
  },
  {
   "cell_type": "markdown",
   "metadata": {},
   "source": [
    "**12. repetir_letras(palabra, cantidad)**\n",
    "\n",
    "Crear una función repetir_letras que tome como argumento un string palabra y un número entero cantidad, y devuelva una string donde cada letra de palabra esté repetida cantidad de veces.\n",
    "\n",
    "```python\n",
    "repetir_letras('hola', 2) # 'hhoollaa'\n",
    "repetir_letras('ada', 3) # 'aaadddaaa'\n",
    "repetir_letras('ah!', 5) # 'aaaaahhhhh!!!!!'\n",
    "repetir_letras('basta', 1) # 'basta'\n",
    "```\n"
   ]
  },
  {
   "cell_type": "code",
   "execution_count": null,
   "metadata": {},
   "outputs": [],
   "source": [
    "# your code is here"
   ]
  },
  {
   "cell_type": "markdown",
   "metadata": {},
   "source": [
    "**13. capitalizar_palabras(string)**\n",
    "\n",
    "Crear una función capitalizar_palabras tome como argumento un string string y devuelva un string donde cada palabra está capitalizada (con la primera letra ma´yuscula). Dejar las demás letras como están.\n",
    "\n",
    "```python\n",
    "capitalizar_palabras('Esto es un título') # 'Esto Es Un Título'\n",
    "capitalizar_palabras('había una vez') # 'Había Una Vez'\n",
    "```"
   ]
  },
  {
   "cell_type": "code",
   "execution_count": null,
   "metadata": {},
   "outputs": [],
   "source": [
    "# your code is here"
   ]
  },
  {
   "cell_type": "markdown",
   "metadata": {},
   "source": [
    "**14. es_subconjunto(subconjunto, conjunto)**\n",
    "\n",
    "Crear una función es_subconjunto que tome como argumento dos arrays, subconjunto y conjunto, y devuelva True si subconjunto es realmente subconjunto de conjunto, es decir, si todos los valores de subconjunto están en conjunto.\n",
    "\n",
    "```python\n",
    "es_subconjunto([1], [1, 2, 3]) # True\n",
    "es_subconjunto([1, 2, 3], [1, 2, 3, 4, 5]) # True\n",
    "es_subconjunto([27, 49, 54], [54, 27, 8, 27, 49]) # True\n",
    "es_subconjunto([1, 2, 3], [1, 2]) # False\n",
    "es_subconjunto([1], [2, 3, 4]) # False\n",
    "```"
   ]
  },
  {
   "cell_type": "code",
   "execution_count": null,
   "metadata": {},
   "outputs": [],
   "source": [
    "# your code is here"
   ]
  },
  {
   "cell_type": "markdown",
   "metadata": {},
   "source": [
    "**15. es_palindromo(palabra)**\n",
    "\n",
    "Crear una función es_palindromo que tenga como par´ámetro un string palabra y devuelva True si dicha palabra es palíndroma, es decir, si puede leerse de igual manera de izquierda a derecha que de derecha a izquierda, o False sino.\n",
    "\n",
    "\n",
    "```python\n",
    "es_palindromo('ada') # True\n",
    "es_palindromo('reconocer') # True\n",
    "es_palindromo('mama') # False\n",
    "es_palindromo('python') # False\n",
    "```"
   ]
  },
  {
   "cell_type": "code",
   "execution_count": null,
   "metadata": {},
   "outputs": [],
   "source": [
    "# your code is here"
   ]
  }
 ],
 "metadata": {
  "kernelspec": {
   "display_name": "Python 3.9.2 64-bit",
   "language": "python",
   "name": "python3"
  },
  "language_info": {
   "name": "python",
   "version": "3.9.2"
  },
  "orig_nbformat": 4,
  "vscode": {
   "interpreter": {
    "hash": "916dbcbb3f70747c44a77c7bcd40155683ae19c65e1c03b4aa3499c5328201f1"
   }
  }
 },
 "nbformat": 4,
 "nbformat_minor": 2
}

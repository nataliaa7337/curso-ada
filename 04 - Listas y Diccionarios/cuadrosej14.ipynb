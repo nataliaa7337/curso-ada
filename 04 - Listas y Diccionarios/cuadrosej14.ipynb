{
 "cells": [
  {
   "cell_type": "code",
   "execution_count": 1,
   "metadata": {},
   "outputs": [
    {
     "name": "stdout",
     "output_type": "stream",
     "text": [
      "1 cuadros hubo en 60 minutos\n",
      "10 cuadros hubo en 1200 minutos\n",
      "2 cuadros hubo en 360 minutos\n"
     ]
    }
   ],
   "source": [
    "def calcularFPS(cantidad_cuadros_seg,cantidad_minu):\n",
    "    minutos = (cantidad_cuadros_seg * 60) * cantidad_minu\n",
    "    print(\"{} cuadros hubo en {} minutos\" .format(cantidad_cuadros_seg, minutos))\n",
    "\n",
    "\n",
    "calcularFPS(1, 1)  \n",
    "calcularFPS(10, 2)  \n",
    "calcularFPS(2,3)"
   ]
  }
 ],
 "metadata": {
  "kernelspec": {
   "display_name": "Python 3.8.10 64-bit",
   "language": "python",
   "name": "python3"
  },
  "language_info": {
   "codemirror_mode": {
    "name": "ipython",
    "version": 3
   },
   "file_extension": ".py",
   "mimetype": "text/x-python",
   "name": "python",
   "nbconvert_exporter": "python",
   "pygments_lexer": "ipython3",
   "version": "3.8.10"
  },
  "orig_nbformat": 4,
  "vscode": {
   "interpreter": {
    "hash": "916dbcbb3f70747c44a77c7bcd40155683ae19c65e1c03b4aa3499c5328201f1"
   }
  }
 },
 "nbformat": 4,
 "nbformat_minor": 2
}

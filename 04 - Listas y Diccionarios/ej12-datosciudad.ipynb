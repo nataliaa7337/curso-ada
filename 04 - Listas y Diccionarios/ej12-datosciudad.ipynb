{
 "cells": [
  {
   "cell_type": "code",
   "execution_count": 1,
   "metadata": {},
   "outputs": [
    {
     "name": "stdout",
     "output_type": "stream",
     "text": [
      "la ciudad de Bella Vista, tiene una poblacion de 14.791 habitantes y esta ubicada en Argentina \n"
     ]
    }
   ],
   "source": [
    "def obtener_datos_de_ciudad(nombre_Ciudad,Num_Poblacion,pais):\n",
    "    print(\"la ciudad de {}, tiene una poblacion de {} habitantes y esta ubicada en {} \".format(nombre_Ciudad,Num_Poblacion,pais))\n",
    "\n",
    "obtener_datos_de_ciudad(\"Bella Vista\",\"14.791\",\"Argentina\")"
   ]
  }
 ],
 "metadata": {
  "kernelspec": {
   "display_name": "Python 3.8.10 64-bit",
   "language": "python",
   "name": "python3"
  },
  "language_info": {
   "codemirror_mode": {
    "name": "ipython",
    "version": 3
   },
   "file_extension": ".py",
   "mimetype": "text/x-python",
   "name": "python",
   "nbconvert_exporter": "python",
   "pygments_lexer": "ipython3",
   "version": "3.8.10"
  },
  "orig_nbformat": 4,
  "vscode": {
   "interpreter": {
    "hash": "916dbcbb3f70747c44a77c7bcd40155683ae19c65e1c03b4aa3499c5328201f1"
   }
  }
 },
 "nbformat": 4,
 "nbformat_minor": 2
}
